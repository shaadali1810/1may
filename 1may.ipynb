{
 "cells": [
  {
   "cell_type": "code",
   "execution_count": 1,
   "id": "b37614e4-141f-48e9-9c4f-cbeeaae6fe9d",
   "metadata": {},
   "outputs": [],
   "source": [
    "#1A Confusion matrix is an N x N matrix used for evaluating the performance of a classification model, where N is the total number of target classes. The matrix compares the actual target values with those predicted by the machine learning model.\n"
   ]
  },
  {
   "cell_type": "code",
   "execution_count": 2,
   "id": "c3a90149-6584-476c-aa23-f1989efa9dfc",
   "metadata": {},
   "outputs": [],
   "source": [
    "#2A confusion matrix is a performance evaluation tool in machine learning, representing the accuracy of a classification model. It displays the number of true positives, true negatives, false positives, and false negatives."
   ]
  },
  {
   "cell_type": "code",
   "execution_count": 3,
   "id": "e2dc2d85-2b9c-4b6d-a082-e49e7d19f5bb",
   "metadata": {},
   "outputs": [],
   "source": [
    "#3 Extrinsic evaluation is the best way to evaluate the performance of a language model by embedding it in an application and measuring how much the application improves. It is an end-to-end evaluation where we can understand if a particular improvement in a component is really going to help the task at hand."
   ]
  },
  {
   "cell_type": "code",
   "execution_count": 4,
   "id": "3cc37614-0eff-4fea-bd40-72221a5565b8",
   "metadata": {},
   "outputs": [],
   "source": [
    "#4In an intrinsic evaluation, quality of NLP systems outputs is evaluated against pre-determined ground truth (reference text) whereas an extrinsic evaluation is aimed at evaluating systems outputs based on their impact on the performance of other NLP systems"
   ]
  },
  {
   "cell_type": "code",
   "execution_count": null,
   "id": "b0dfbb8c-0085-402a-bb2b-04da3b3c4247",
   "metadata": {},
   "outputs": [],
   "source": [
    "#5 "
   ]
  }
 ],
 "metadata": {
  "kernelspec": {
   "display_name": "Python 3 (ipykernel)",
   "language": "python",
   "name": "python3"
  },
  "language_info": {
   "codemirror_mode": {
    "name": "ipython",
    "version": 3
   },
   "file_extension": ".py",
   "mimetype": "text/x-python",
   "name": "python",
   "nbconvert_exporter": "python",
   "pygments_lexer": "ipython3",
   "version": "3.10.8"
  }
 },
 "nbformat": 4,
 "nbformat_minor": 5
}
